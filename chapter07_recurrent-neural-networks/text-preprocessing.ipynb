{
 "cells": [
  {
   "cell_type": "markdown",
   "metadata": {},
   "source": [
    "## 7.2 文本预处理\n",
    "对于序列数据处理问题，我们在7.1节中评估了所需的统计工具和预测时面临的挑战。\n",
    "这样的数据存在许多种形式，**文本**是最常见例子之一。\n",
    "例如，一篇文章可以被简单地看作一串单词序列，甚至是一串字符序列。\n",
    "本节中，我们将解析文本的常见预处理步骤。\n",
    "这些步骤通常包括：\n",
    "\n",
    "1. 将文本作为字符串加载到内存中。\n",
    "1. 将字符串拆分为**词元**（如单词和字符）。\n",
    "1. 建立一个词表，将拆分的词元**映射**到数字索引。\n",
    "1. 将文本转换为数字索引序列，方便模型操作。"
   ]
  },
  {
   "cell_type": "code",
   "execution_count": 1,
   "metadata": {},
   "outputs": [],
   "source": [
    "import collections\n",
    "import re # 提供正则表达式的支持\n",
    "from d2l import torch as d2l"
   ]
  },
  {
   "cell_type": "markdown",
   "metadata": {},
   "source": [
    "### 7.2.1 读取数据集\n",
    "首先，我们从H.G.Well的[时光机器](https://www.gutenberg.org/ebooks/35)中加载文本。\n",
    "这是一个相当小的语料库，只有30000多个单词，但足够我们小试牛刀，\n",
    "而现实中的文档集合可能会包含数十亿个单词。\n",
    "下面的函数将数据集读取到由多条文本行组成的**列表**中，其中每条文本行都是一个字符串。\n",
    "为简单起见，我们在这里忽略了标点符号和字母大写。"
   ]
  },
  {
   "cell_type": "code",
   "execution_count": 4,
   "metadata": {},
   "outputs": [
    {
     "name": "stdout",
     "output_type": "stream",
     "text": [
      "# 文本总行数：3221\n",
      "the time machine by h g wells\n",
      "were three dimensional representations of his four dimensioned\n"
     ]
    }
   ],
   "source": [
    "\"\"\" \n",
    "d2l.DATA_HUB[]：一个列表，用于存储文本数据\n",
    "d2l.DATA_URL：亚马逊的下载加速链接\n",
    "\"\"\"\n",
    "d2l.DATA_HUB['time_machine'] = (d2l.DATA_URL + 'timemachine.txt', '090b5e7e70c295757f55df93cb0a180b9691891a') \n",
    "\n",
    "\"\"\" 将时间机器数据集加载到文本行的列表中 \"\"\"\n",
    "def read_time_machine():\n",
    "    with open(d2l.download('time_machine'), 'r') as f:\n",
    "        lines = f.readlines()\n",
    "    \"\"\" \n",
    "        1. 使用re.sub()方法将每行中的非字母字符替换为空格\n",
    "        2. 使用strip()方法去除每行两端的空格 \n",
    "        3. 使用lower()方法将每行转换为小写\n",
    "        4. 将处理后的每行文本添加到一个列表中，并将该列表作为函数的返回值\n",
    "    \"\"\"\n",
    "    return [re.sub('[^A-Za-z]+', ' ', line).strip().lower() for line in lines]\n",
    "\n",
    "lines = read_time_machine()\n",
    "print(f'# 文本总行数：{len(lines)}')\n",
    "print(lines[0])\n",
    "print(lines[100])"
   ]
  },
  {
   "cell_type": "markdown",
   "metadata": {},
   "source": [
    "### 7.2.2 词元化\n",
    "下面的`tokenize`函数将文本行列表（`lines`）作为输入，\n",
    "列表中的每个元素是一个文本序列（如一条文本行）。\n",
    "每个文本序列又被拆分成一个词元列表，*词元*（token）是文本的基本单位。\n",
    "最后，返回一个由词元列表组成的列表，其中的每个词元都是一个字符串（string）。"
   ]
  },
  {
   "cell_type": "code",
   "execution_count": 5,
   "metadata": {},
   "outputs": [
    {
     "name": "stdout",
     "output_type": "stream",
     "text": [
      "['the', 'time', 'machine', 'by', 'h', 'g', 'wells']\n",
      "[]\n",
      "[]\n",
      "[]\n",
      "[]\n",
      "['i']\n",
      "[]\n",
      "[]\n",
      "['the', 'time', 'traveller', 'for', 'so', 'it', 'will', 'be', 'convenient', 'to', 'speak', 'of', 'him']\n",
      "['was', 'expounding', 'a', 'recondite', 'matter', 'to', 'us', 'his', 'grey', 'eyes', 'shone', 'and']\n",
      "['twinkled', 'and', 'his', 'usually', 'pale', 'face', 'was', 'flushed', 'and', 'animated', 'the']\n"
     ]
    }
   ],
   "source": [
    "\"\"\" 将文本行拆分为单词或字符词元 \"\"\"\n",
    "def tokenize(lines, token='word'):\n",
    "    if token == 'word':\n",
    "        return [line.split() for line in lines]\n",
    "    elif token == 'char':\n",
    "        return [list(line) for line in lines]\n",
    "    else:\n",
    "        print('错误：未知词元类型！')\n",
    "\n",
    "tokens = tokenize(lines)\n",
    "for i in range(11):\n",
    "    print(tokens[i])"
   ]
  },
  {
   "cell_type": "markdown",
   "metadata": {},
   "source": [
    "### 7.2.3 词表\n",
    "词元的类型是字符串，而模型需要的输入是数字，因此这种类型不方便模型使用。\n",
    "现在，让我们构建一个字典，通常也叫做*词表*（vocabulary），用来将字符串类型的词元映射到从$0$开始的数字索引中。\n",
    "我们先将训练集中的所有文档合并在一起，对它们的唯一词元进行统计，\n",
    "得到的统计结果称之为*语料*（corpus）。\n",
    "然后根据每个唯一词元的出现频率，为其分配一个数字索引。\n",
    "很少出现的词元通常被移除，这可以降低复杂性。\n",
    "另外，语料库中不存在或已删除的任何词元都将映射到一个特定的未知词元“&lt;unk&gt;”。\n",
    "我们可以选择增加一个列表，用于保存那些被保留的词元，\n",
    "例如：填充词元（“&lt;pad&gt;”）；\n",
    "序列开始词元（“&lt;bos&gt;”）；\n",
    "序列结束词元（“&lt;eos&gt;”）。"
   ]
  },
  {
   "cell_type": "code",
   "execution_count": 6,
   "metadata": {},
   "outputs": [],
   "source": [
    "\"\"\" 文本词表 \"\"\"\n",
    "class Vocab:\n",
    "    \"\"\" 初始化词表对象\n",
    "        tokens: 词元列表\n",
    "        min_freq: 最小频率\n",
    "        reserved_tokens: 保留词元列表\n",
    "    \"\"\"\n",
    "    def __init__(self, tokens=None, min_freq=0, reserved_tokens=None):\n",
    "        if tokens is None: # 如果tokens为空，则将其初始化为空列表\n",
    "            tokens = []\n",
    "        if reserved_tokens is None: # 如果reserved_tokens为空，则将其初始化为空列表\n",
    "            reserved_tokens = []\n",
    "        \n",
    "        # 按出现频率排序\n",
    "        counter = count_corpus(tokens) # 统计词元频率。调用count_corpus函数统计tokens中每个词元的出现次数。\n",
    "        self._token_freqs = sorted(counter.items(), \n",
    "                                   key=lambda x: x[1], # 按照词元频率进行排序\n",
    "                                   reverse=True) # 按照降序排列\n",
    "\n",
    "        # 未知词元的索引为0\n",
    "        self.idx_to_token = ['<unk>'] + reserved_tokens # 将保留词元列表和<unk>（未知词元）组成一个新的列表，并保存在self.idx_to_token索引列表中\n",
    "        self.token_to_idx = {token: idx for idx, token in enumerate(self.idx_to_token)} # 构建词元到索引的映射。使用字典推导式将self.idx_to_token中的词元和对应的索引构建成一个字典，并保存在self.token_to_idx中。\n",
    "        for token, freq in self._token_freqs: # 遍历词元频率列表\n",
    "            if freq < min_freq: # 如果词元的频率小于最小频率，则跳出循环\n",
    "                break\n",
    "            if token not in self.token_to_idx: # 如果词元不在词元到索引的映射中\n",
    "                self.idx_to_token.append(token) # 将词元添加到词元列表中\n",
    "                self.token_to_idx[token] = len(self.idx_to_token) - 1 # 将词元和对应的索引添加到词元到索引的映射中\n",
    "\n",
    "    \"\"\" 返回词表的大小（词元的数量） \"\"\"\n",
    "    def __len__(self):\n",
    "        return len(self.idx_to_token)\n",
    "    \n",
    "    \"\"\" 根据词元获取对应的索引 \"\"\"\n",
    "    def __getitem__(self, tokens):\n",
    "        if not isinstance(tokens, (list, tuple)): # 如果传入的tokens不是列表或元组，则返回对应词元的索引，如果词元不存在，则返回未知词元的索引。\n",
    "            return self.token_to_idx.get(tokens, self.unk)\n",
    "        return [self.__getitem__(token) for token in tokens] # 如果传入的tokens是列表或元组，则返回对应词元列表的索引列表。\n",
    "    \n",
    "    \"\"\" 根据索引获取对应的词元 \"\"\"\n",
    "    def to_tokens(self, indices):\n",
    "        if not isinstance(indices, (list, tuple)): # 如果传入的indices不是列表或元组，则返回对应索引的词元。\n",
    "            return self.idx_to_token[indices]\n",
    "        return [self.idx_to_token[index] for index in indices] # 如果传入的indices是列表或元组，则返回对应索引列表的词元列表。\n",
    "    \n",
    "    \"\"\" \n",
    "        @property 是一个装饰器（decorator），用于将一个方法转换为属性访问。当我们在一个方法前面加上 @property 装饰器时，这个方法就可以像访问属性一样被调用，而不需要使用括号。\n",
    "    \"\"\"\n",
    "    @property\n",
    "    # 未知词元的索引为0\n",
    "    def unk(self):\n",
    "        \"\"\"  \n",
    "            @property 修饰的 unk 方法定义了一个名为 unk 的属性。当我们访问 unk 属性时，实际上是调用了 unk 方法并返回其结果。\n",
    "            这样，我们可以通过 vocab.unk 的方式来获取未知词元的索引，而不需要使用括号调用方法。\n",
    "        \"\"\"\n",
    "        return 0\n",
    "\n",
    "    @property\n",
    "    # 返回词元频率列表\n",
    "    def token_freqs(self):\n",
    "        \"\"\"  \n",
    "            @property 修饰的 token_freqs 方法定义了一个名为 token_freqs 的属性。\n",
    "            当我们访问 token_freqs 属性时，实际上是调用了 token_freqs 方法并返回其结果。\n",
    "            这样，我们可以通过 vocab.token_freqs 的方式来获取词元频率列表，而不需要使用括号调用方法。\n",
    "        \"\"\"\n",
    "        return self._token_freqs\n",
    "\n",
    "\n",
    "\"\"\" 统计词元频率 \"\"\"\n",
    "def count_corpus(tokens):\n",
    "    # 这里的tokens是1维列表或者2维列表\n",
    "    if len(tokens) == 0 or isinstance(tokens[0], list): # 检查tokens的长度是否为0或者tokens[0]是否为列表类型\n",
    "        # 将词元列表展平成一个一维列表\n",
    "        \"\"\"  \n",
    "        tokens = []\n",
    "        for line in tokens:\n",
    "            for token in line:\n",
    "                tokens.append(token)\n",
    "        \"\"\"\n",
    "        tokens = [token for line in tokens for token in line]\n",
    "    # 使用collections.Counter()函数来计算词元的频率\n",
    "    return collections.Counter(tokens) \n"
   ]
  },
  {
   "cell_type": "markdown",
   "metadata": {},
   "source": [
    "我们首先使用时光机器数据集作为语料库来构建词表，然后打印前几个高频词元及其索引。"
   ]
  },
  {
   "cell_type": "code",
   "execution_count": 8,
   "metadata": {},
   "outputs": [
    {
     "name": "stdout",
     "output_type": "stream",
     "text": [
      "[('<unk>', 0), ('the', 1), ('i', 2), ('and', 3), ('of', 4), ('a', 5), ('to', 6), ('was', 7), ('in', 8), ('that', 9)]\n"
     ]
    }
   ],
   "source": [
    "vocab = Vocab(tokens)\n",
    "print(list(vocab.token_to_idx.items())[:10])"
   ]
  },
  {
   "cell_type": "markdown",
   "metadata": {},
   "source": [
    "现在，我们可以将每一条文本行转换成一个数字索引列表。"
   ]
  },
  {
   "cell_type": "code",
   "execution_count": 9,
   "metadata": {},
   "outputs": [
    {
     "name": "stdout",
     "output_type": "stream",
     "text": [
      "文本: ['the', 'time', 'machine', 'by', 'h', 'g', 'wells']\n",
      "索引: [1, 19, 50, 40, 2183, 2184, 400]\n",
      "文本: ['twinkled', 'and', 'his', 'usually', 'pale', 'face', 'was', 'flushed', 'and', 'animated', 'the']\n",
      "索引: [2186, 3, 25, 1044, 362, 113, 7, 1421, 3, 1045, 1]\n"
     ]
    }
   ],
   "source": [
    "for i in [0, 10]:\n",
    "    print('文本:', tokens[i])\n",
    "    print('索引:', vocab[tokens[i]])"
   ]
  },
  {
   "cell_type": "markdown",
   "metadata": {},
   "source": [
    "### 7.2.4 整合所有功能\n",
    "在使用上述函数时，我们将所有功能打包到`load_corpus_time_machine`函数中，\n",
    "该函数返回`corpus`（词元索引列表）和`vocab`（时光机器语料库的词表）。\n",
    "我们在这里所做的改变是：\n",
    "\n",
    "1. 为了简化后面章节中的训练，我们使用字符（而不是单词）实现文本词元化；\n",
    "1. 时光机器数据集中的每个文本行不一定是一个句子或一个段落，还可能是一个单词，因此返回的`corpus`仅处理为单个列表，而不是使用多词元列表构成的一个列表。\n"
   ]
  },
  {
   "cell_type": "code",
   "execution_count": 10,
   "metadata": {},
   "outputs": [
    {
     "data": {
      "text/plain": [
       "(170580, 28)"
      ]
     },
     "execution_count": 10,
     "metadata": {},
     "output_type": "execute_result"
    }
   ],
   "source": [
    "\"\"\" 返回时光机器数据集的词元索引列表和词表 \"\"\"\n",
    "def load_corpus_time_machine(max_tokens=-1):\n",
    "    lines = read_time_machine()\n",
    "    tokens = tokenize(lines, 'char')\n",
    "    vocab = Vocab(tokens)\n",
    "    # 因为时光机器数据集中的每个文本行不一定是一个句子或一个段落，所以将所有文本行展平到一个列表中\n",
    "    corpus = [vocab[token] for line in tokens for token in line]\n",
    "    if max_tokens > 0:\n",
    "        corpus = corpus[:max_tokens]\n",
    "    return corpus, vocab\n",
    "\n",
    "corpus, vocab = load_corpus_time_machine()\n",
    "len(corpus), len(vocab)"
   ]
  },
  {
   "cell_type": "markdown",
   "metadata": {},
   "source": [
    "### 7.2.5 小结\n",
    "* 文本是序列数据的一种最常见的形式之一。\n",
    "* 为了对文本进行预处理，我们通常将文本拆分为词元，构建词表将词元字符串映射为数字索引，并将文本数据转换为词元索引以供模型操作。"
   ]
  }
 ],
 "metadata": {
  "kernelspec": {
   "display_name": "Python 3",
   "language": "python",
   "name": "python3"
  },
  "language_info": {
   "codemirror_mode": {
    "name": "ipython",
    "version": 3
   },
   "file_extension": ".py",
   "mimetype": "text/x-python",
   "name": "python",
   "nbconvert_exporter": "python",
   "pygments_lexer": "ipython3",
   "version": "3.9.13"
  }
 },
 "nbformat": 4,
 "nbformat_minor": 2
}
